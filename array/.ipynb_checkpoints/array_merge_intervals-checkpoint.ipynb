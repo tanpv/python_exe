{
 "cells": [
  {
   "cell_type": "code",
   "execution_count": 4,
   "metadata": {},
   "outputs": [
    {
     "data": {
      "text/plain": [
       "'\\nGiven a collection of intervals which are already sorted by start number, merge all overlapping intervals.\\nFor example,\\nGiven [[1,3],[2,6],[5,10],[11,16],[15,18],[19,22]],\\nreturn [[1, 10], [11, 18], [19, 22]]\\n'"
      ]
     },
     "execution_count": 4,
     "metadata": {},
     "output_type": "execute_result"
    }
   ],
   "source": [
    "# Given a collection of intervals which are already sorted by start number, merge all overlapping intervals.\n",
    "# For example,\n",
    "# Given [[1,3],[2,6],[5,10],[11,16],[15,18],[19,22]],\n",
    "# return [[1, 10], [11, 18], [19, 22]]\n"
   ]
  }
 ],
 "metadata": {
  "kernelspec": {
   "display_name": "Python 3",
   "language": "python",
   "name": "python3"
  },
  "language_info": {
   "codemirror_mode": {
    "name": "ipython",
    "version": 3
   },
   "file_extension": ".py",
   "mimetype": "text/x-python",
   "name": "python",
   "nbconvert_exporter": "python",
   "pygments_lexer": "ipython3",
   "version": "3.6.1"
  }
 },
 "nbformat": 4,
 "nbformat_minor": 2
}
