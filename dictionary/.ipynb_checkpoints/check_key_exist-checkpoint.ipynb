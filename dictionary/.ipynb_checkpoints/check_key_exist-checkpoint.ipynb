{
 "cells": [
  {
   "cell_type": "code",
   "execution_count": null,
   "metadata": {
    "collapsed": true
   },
   "outputs": [],
   "source": [
    "# Check if a given key already exists in a dictionary\n",
    "# input\n",
    "# d = {1: 10, 2: 20, 3: 30, 4: 40, 5: 50, 6: 60}\n",
    "# is_key_present(5)\n",
    "# is_key_present(9)\n",
    "# output\n",
    "# Key is present in the dictionary                                                                              \n",
    "# Key is not present in the dictionary"
   ]
  }
 ],
 "metadata": {
  "kernelspec": {
   "display_name": "Python 3",
   "language": "python",
   "name": "python3"
  },
  "language_info": {
   "codemirror_mode": {
    "name": "ipython",
    "version": 3
   },
   "file_extension": ".py",
   "mimetype": "text/x-python",
   "name": "python",
   "nbconvert_exporter": "python",
   "pygments_lexer": "ipython3",
   "version": "3.6.1"
  }
 },
 "nbformat": 4,
 "nbformat_minor": 2
}
