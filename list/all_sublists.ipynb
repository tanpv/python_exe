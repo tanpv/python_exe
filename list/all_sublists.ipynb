{
 "cells": [
  {
   "cell_type": "code",
   "execution_count": 1,
   "metadata": {},
   "outputs": [
    {
     "name": "stdout",
     "output_type": "stream",
     "text": [
      "[[], [10], [10, 20], [10, 20, 30], [10, 20, 30, 40], [20], [20, 30], [20, 30, 40], [30], [30, 40], [40]]\n",
      "[[], ['X'], ['X', 'Y'], ['X', 'Y', 'Z'], ['Y'], ['Y', 'Z'], ['Z']]\n"
     ]
    }
   ],
   "source": [
    "# Write a Python program to generate all sublists of a list.\n",
    "# input\n",
    "# l1 = [10, 20, 30, 40]\n",
    "# l2 = ['X', 'Y', 'Z']\n",
    "# print(sub_lists(l1))\n",
    "# print(sub_lists(l2))\n",
    "# output\n",
    "# [[], [10], [10, 20], [10, 20, 30], [10, 20, 30, 40], [20], [20, 30], [20, 30, 40], [30], [30, 40], [40]]      \n",
    "# [[], ['X'], ['X', 'Y'], ['X', 'Y', 'Z'], ['Y'], ['Y', 'Z'], ['Z']]\n",
    "\n",
    "def sub_lists(my_list):\n",
    "\tsubs = [[]]\n",
    "\tfor i in range(len(my_list)):\n",
    "\t\tn = i+1\n",
    "\t\twhile n <= len(my_list):\n",
    "\t\t\tsub = my_list[i:n]\n",
    "\t\t\tsubs.append(sub)\n",
    "\t\t\tn += 1\n",
    "\t\n",
    "\treturn subs\n",
    "\n",
    "l1 = [10, 20, 30, 40]\n",
    "l2 = ['X', 'Y', 'Z']\n",
    "print(sub_lists(l1))\n",
    "print(sub_lists(l2))"
   ]
  }
 ],
 "metadata": {
  "kernelspec": {
   "display_name": "Python 3",
   "language": "python",
   "name": "python3"
  },
  "language_info": {
   "codemirror_mode": {
    "name": "ipython",
    "version": 3
   },
   "file_extension": ".py",
   "mimetype": "text/x-python",
   "name": "python",
   "nbconvert_exporter": "python",
   "pygments_lexer": "ipython3",
   "version": "3.6.1"
  }
 },
 "nbformat": 4,
 "nbformat_minor": 2
}
